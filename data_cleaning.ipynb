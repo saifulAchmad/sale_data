{
 "cells": [
  {
   "cell_type": "code",
   "execution_count": 1,
   "metadata": {},
   "outputs": [
    {
     "ename": "ModuleNotFoundError",
     "evalue": "No module named 'geopy'",
     "output_type": "error",
     "traceback": [
      "\u001b[1;31m---------------------------------------------------------------------------\u001b[0m",
      "\u001b[1;31mModuleNotFoundError\u001b[0m                       Traceback (most recent call last)",
      "Cell \u001b[1;32mIn[1], line 2\u001b[0m\n\u001b[0;32m      1\u001b[0m \u001b[38;5;28;01mimport\u001b[39;00m \u001b[38;5;21;01mpandas\u001b[39;00m \u001b[38;5;28;01mas\u001b[39;00m \u001b[38;5;21;01mpd\u001b[39;00m\n\u001b[1;32m----> 2\u001b[0m \u001b[38;5;28;01mfrom\u001b[39;00m \u001b[38;5;21;01mgeopy\u001b[39;00m\u001b[38;5;21;01m.\u001b[39;00m\u001b[38;5;21;01mgeocoders\u001b[39;00m \u001b[38;5;28;01mimport\u001b[39;00m Nominatim\n\u001b[0;32m      5\u001b[0m df \u001b[38;5;241m=\u001b[39m pd\u001b[38;5;241m.\u001b[39mread_csv(\u001b[38;5;124m\"\u001b[39m\u001b[38;5;124mdata_source/data.csv\u001b[39m\u001b[38;5;124m\"\u001b[39m)    \n\u001b[0;32m      7\u001b[0m \u001b[38;5;28mprint\u001b[39m(df\u001b[38;5;241m.\u001b[39misna()\u001b[38;5;241m.\u001b[39msum())\n",
      "\u001b[1;31mModuleNotFoundError\u001b[0m: No module named 'geopy'"
     ]
    }
   ],
   "source": [
    "import pandas as pd\n",
    "from geopy.geocoders import Nominatim\n",
    "\n",
    "\n",
    "\n",
    "df = pd.read_csv(\"data_source/data.csv\")    \n",
    "\n",
    "print(df.isna().sum())\n",
    "print(df.info())"
   ]
  },
  {
   "cell_type": "code",
   "execution_count": null,
   "metadata": {},
   "outputs": [
    {
     "name": "stdout",
     "output_type": "stream",
     "text": [
      "Order No             0\n",
      "Order Date           0\n",
      "Customer Name        0\n",
      "Address              0\n",
      "City                 0\n",
      "State                0\n",
      "Customer Type        0\n",
      "Account Manager      0\n",
      "Order Priority       0\n",
      "Product Name         0\n",
      "Product Category     0\n",
      "Product Container    0\n",
      "Ship Mode            0\n",
      "Ship Date            0\n",
      "Cost Price           0\n",
      "Retail Price         0\n",
      "Profit Margin        0\n",
      "Order Quantity       0\n",
      "Sub Total            0\n",
      "Discount %           0\n",
      "Discount $           0\n",
      "Order Total          0\n",
      "Shipping Cost        0\n",
      "Total                0\n",
      "dtype: int64\n"
     ]
    }
   ],
   "source": [
    "df=df.dropna()\n",
    "print(df.isna().sum())\n",
    "# print (df.head(10))"
   ]
  },
  {
   "cell_type": "code",
   "execution_count": null,
   "metadata": {},
   "outputs": [
    {
     "name": "stdout",
     "output_type": "stream",
     "text": [
      "  Order No  Order Date     Customer Name    City State   Customer Type  \\\n",
      "0   4293-1  02-09-2014  Vivek Sundaresam  Sydney   NSW  Small Business   \n",
      "1   5001-1  24-10-2015    Shahid Hopkins  Sydney   NSW       Corporate   \n",
      "\n",
      "  Account Manager Order Priority  \\\n",
      "0    Tina Carlton       Critical   \n",
      "1    Natasha Song         Medium   \n",
      "\n",
      "                                     Product Name Product Category  ...  \\\n",
      "0  UGen Ultra Professional Cordless Optical Suite  Office Supplies  ...   \n",
      "1                             Bagged Rubber Bands  Office Supplies  ...   \n",
      "\n",
      "  Profit Margin Order Quantity Sub Total  Discount %  Discount $  Order Total  \\\n",
      "0        144.47           23.0   4533.52         2.0      194.83      4757.22   \n",
      "1          1.02            8.0     45.20         3.0        0.00        45.90   \n",
      "\n",
      "   Shipping Cost    Total               Street       Suburb  \n",
      "0           7.18  4291.55   152 Bunnerong Road  Eastgardens  \n",
      "1           0.70    46.91  438 Victoria Avenue    Chatswood  \n",
      "\n",
      "[2 rows x 25 columns]\n"
     ]
    },
    {
     "name": "stderr",
     "output_type": "stream",
     "text": [
      "C:\\Users\\WINDOWS 10\\AppData\\Local\\Temp\\ipykernel_3860\\1121972339.py:15: FutureWarning: The default value of regex will change from True to False in a future version. In addition, single character regular expressions will *not* be treated as literal strings when regex=True.\n",
      "  df['Total'] = df['Total'].str.replace('$', '')\n",
      "C:\\Users\\WINDOWS 10\\AppData\\Local\\Temp\\ipykernel_3860\\1121972339.py:18: FutureWarning: The default value of regex will change from True to False in a future version. In addition, single character regular expressions will *not* be treated as literal strings when regex=True.\n",
      "  df['Cost Price'] = df['Cost Price'].str.replace('$', '')\n",
      "C:\\Users\\WINDOWS 10\\AppData\\Local\\Temp\\ipykernel_3860\\1121972339.py:21: FutureWarning: The default value of regex will change from True to False in a future version. In addition, single character regular expressions will *not* be treated as literal strings when regex=True.\n",
      "  df['Retail Price'] = df['Retail Price'].str.replace('$', '')\n",
      "C:\\Users\\WINDOWS 10\\AppData\\Local\\Temp\\ipykernel_3860\\1121972339.py:24: FutureWarning: The default value of regex will change from True to False in a future version. In addition, single character regular expressions will *not* be treated as literal strings when regex=True.\n",
      "  df['Profit Margin'] = df['Profit Margin'].str.replace('$', '')\n",
      "C:\\Users\\WINDOWS 10\\AppData\\Local\\Temp\\ipykernel_3860\\1121972339.py:27: FutureWarning: The default value of regex will change from True to False in a future version. In addition, single character regular expressions will *not* be treated as literal strings when regex=True.\n",
      "  df['Sub Total'] = df['Sub Total'].str.replace('$', '')\n",
      "C:\\Users\\WINDOWS 10\\AppData\\Local\\Temp\\ipykernel_3860\\1121972339.py:30: FutureWarning: The default value of regex will change from True to False in a future version. In addition, single character regular expressions will *not* be treated as literal strings when regex=True.\n",
      "  df['Discount $'] = df['Discount $'].str.replace('$', '')\n",
      "C:\\Users\\WINDOWS 10\\AppData\\Local\\Temp\\ipykernel_3860\\1121972339.py:33: FutureWarning: The default value of regex will change from True to False in a future version. In addition, single character regular expressions will *not* be treated as literal strings when regex=True.\n",
      "  df['Order Total'] = df['Order Total'].str.replace('$', '')\n",
      "C:\\Users\\WINDOWS 10\\AppData\\Local\\Temp\\ipykernel_3860\\1121972339.py:36: FutureWarning: The default value of regex will change from True to False in a future version. In addition, single character regular expressions will *not* be treated as literal strings when regex=True.\n",
      "  df['Shipping Cost'] = df['Shipping Cost'].str.replace('$', '')\n"
     ]
    }
   ],
   "source": [
    "df = df.assign(Street=df['Address'].str.split(',', expand=True)[0],\n",
    "               Suburb=df['Address'].str.split(',', expand=True)[1])\n",
    "\n",
    "\n",
    "\n",
    "split_df = df['Address'].str.rsplit(',', n=1, expand=True)\n",
    "df.drop(columns=['Address'], inplace=True)\n",
    "# Assign the first part to the 'Street' column and the second part to the 'Suburb' column\n",
    "df['Street'] = split_df[0]\n",
    "df['Suburb'] = split_df[1]\n",
    "\n",
    "\n",
    "\n",
    "\n",
    "df['Total'] = df['Total'].str.replace('$', '')\n",
    "df['Total'] = df['Total'].str.replace(',', '').astype(float)\n",
    "\n",
    "df['Cost Price'] = df['Cost Price'].str.replace('$', '')\n",
    "df['Cost Price'] = df['Cost Price'].str.replace(',', '').astype(float)\n",
    "\n",
    "df['Retail Price'] = df['Retail Price'].str.replace('$', '')\n",
    "df['Retail Price'] = df['Retail Price'].str.replace(',', '').astype(float)\n",
    "\n",
    "df['Profit Margin'] = df['Profit Margin'].str.replace('$', '')\n",
    "df['Profit Margin'] = df['Profit Margin'].str.replace(',', '').astype(float)\n",
    "\n",
    "df['Sub Total'] = df['Sub Total'].str.replace('$', '')\n",
    "df['Sub Total'] = df['Sub Total'].str.replace(',', '').astype(float)\n",
    "\n",
    "df['Discount $'] = df['Discount $'].str.replace('$', '')\n",
    "df['Discount $'] = df['Discount $'].str.replace(',', '').astype(float)\n",
    "\n",
    "df['Order Total'] = df['Order Total'].str.replace('$', '')\n",
    "df['Order Total'] = df['Order Total'].str.replace(',', '').astype(float)\n",
    "\n",
    "df['Shipping Cost'] = df['Shipping Cost'].str.replace('$', '')\n",
    "df['Shipping Cost'] = df['Shipping Cost'].str.replace(',', '').astype(float)\n",
    "\n",
    "df['Discount %'] = df['Discount %'].str.replace('%', '').astype(float)\n",
    "\n",
    "\n",
    "\n",
    "print(df.head(2))\n"
   ]
  },
  {
   "cell_type": "code",
   "execution_count": null,
   "metadata": {},
   "outputs": [
    {
     "name": "stdout",
     "output_type": "stream",
     "text": [
      "  Order No Order Date     Customer Name       City State   Customer Type  \\\n",
      "0   4293-1 2014-09-02  Vivek Sundaresam     Sydney   NSW  Small Business   \n",
      "1   5001-1 2015-10-24    Shahid Hopkins     Sydney   NSW       Corporate   \n",
      "2   5004-1 2014-03-13     Dennis Pardue  Melbourne   VIC        Consumer   \n",
      "\n",
      "  Account Manager Order Priority  \\\n",
      "0    Tina Carlton       Critical   \n",
      "1    Natasha Song         Medium   \n",
      "2    Connor Betts  Not Specified   \n",
      "\n",
      "                                     Product Name Product Category  ...  \\\n",
      "0  UGen Ultra Professional Cordless Optical Suite  Office Supplies  ...   \n",
      "1                             Bagged Rubber Bands  Office Supplies  ...   \n",
      "2                 TechSavi Cordless Navigator Duo  Office Supplies  ...   \n",
      "\n",
      "  Profit Margin Order Quantity Sub Total  Discount %  Discount $  Order Total  \\\n",
      "0        144.47           23.0   4533.52         2.0      194.83      4757.22   \n",
      "1          1.02            8.0     45.20         3.0        0.00        45.90   \n",
      "2         38.87           45.0    873.32         4.0       72.23       837.57   \n",
      "\n",
      "   Shipping Cost    Total               Street       Suburb  \n",
      "0           7.18  4291.55   152 Bunnerong Road  Eastgardens  \n",
      "1           0.70    46.91  438 Victoria Avenue    Chatswood  \n",
      "2           7.18    82.58     412 Brunswick St      Fitzroy  \n",
      "\n",
      "[3 rows x 25 columns]\n",
      "<class 'pandas.core.frame.DataFrame'>\n",
      "Int64Index: 4998 entries, 0 to 4999\n",
      "Data columns (total 25 columns):\n",
      " #   Column             Non-Null Count  Dtype         \n",
      "---  ------             --------------  -----         \n",
      " 0   Order No           4998 non-null   object        \n",
      " 1   Order Date         4998 non-null   datetime64[ns]\n",
      " 2   Customer Name      4998 non-null   object        \n",
      " 3   City               4998 non-null   object        \n",
      " 4   State              4998 non-null   object        \n",
      " 5   Customer Type      4998 non-null   object        \n",
      " 6   Account Manager    4998 non-null   object        \n",
      " 7   Order Priority     4998 non-null   object        \n",
      " 8   Product Name       4998 non-null   object        \n",
      " 9   Product Category   4998 non-null   object        \n",
      " 10  Product Container  4998 non-null   object        \n",
      " 11  Ship Mode          4998 non-null   object        \n",
      " 12  Ship Date          4998 non-null   object        \n",
      " 13  Cost Price         4998 non-null   float64       \n",
      " 14  Retail Price       4998 non-null   float64       \n",
      " 15  Profit Margin      4998 non-null   float64       \n",
      " 16  Order Quantity     4998 non-null   float64       \n",
      " 17  Sub Total          4998 non-null   float64       \n",
      " 18  Discount %         4998 non-null   float64       \n",
      " 19  Discount $         4998 non-null   float64       \n",
      " 20  Order Total        4998 non-null   float64       \n",
      " 21  Shipping Cost      4998 non-null   float64       \n",
      " 22  Total              4998 non-null   float64       \n",
      " 23  Street             4998 non-null   object        \n",
      " 24  Suburb             4998 non-null   object        \n",
      "dtypes: datetime64[ns](1), float64(10), object(14)\n",
      "memory usage: 1015.2+ KB\n",
      "None\n"
     ]
    }
   ],
   "source": [
    "# df['Order Date'] = pd.to_datetime(df['Order Date'])\n",
    "df['Order Date'] = pd.to_datetime(df['Order Date'], format='%d-%m-%Y')\n",
    "# df['Order Date'] = df['Order Date'].astype(date)\n",
    "print (df.head(3))\n",
    "print (df.info())"
   ]
  },
  {
   "cell_type": "code",
   "execution_count": null,
   "metadata": {},
   "outputs": [
    {
     "name": "stdout",
     "output_type": "stream",
     "text": [
      "  Order No Order Date     Customer Name    City State   Customer Type  \\\n",
      "0   4293-1 2014-09-02  Vivek Sundaresam  Sydney   NSW  Small Business   \n",
      "1   5001-1 2015-10-24    Shahid Hopkins  Sydney   NSW       Corporate   \n",
      "\n",
      "  Account Manager Order Priority  \\\n",
      "0    Tina Carlton       Critical   \n",
      "1    Natasha Song         Medium   \n",
      "\n",
      "                                     Product Name Product Category  ...  \\\n",
      "0  UGen Ultra Professional Cordless Optical Suite  Office Supplies  ...   \n",
      "1                             Bagged Rubber Bands  Office Supplies  ...   \n",
      "\n",
      "  Profit Margin Order Quantity Sub Total  Discount %  Discount $  Order Total  \\\n",
      "0        144.47           23.0   4533.52         2.0      194.83      4757.22   \n",
      "1          1.02            8.0     45.20         3.0        0.00        45.90   \n",
      "\n",
      "   Shipping Cost    Total               Street       Suburb  \n",
      "0           7.18  4291.55   152 Bunnerong Road  Eastgardens  \n",
      "1           0.70    46.91  438 Victoria Avenue    Chatswood  \n",
      "\n",
      "[2 rows x 25 columns]\n"
     ]
    }
   ],
   "source": [
    "print(df.head(2))"
   ]
  },
  {
   "cell_type": "code",
   "execution_count": null,
   "metadata": {},
   "outputs": [],
   "source": [
    "# df.drop(columns=['Address'], inplace=True)\n",
    "\n",
    "# df.to_csv('data_source/cleaned_data3.csv', compression='gzip', index = False)"
   ]
  },
  {
   "cell_type": "code",
   "execution_count": null,
   "metadata": {},
   "outputs": [],
   "source": [
    "# newdf = pd.read_csv(\"data_source/cleaned_data3.csv\",compression=\"gzip\")\n",
    "# print(newdf.info())"
   ]
  }
 ],
 "metadata": {
  "interpreter": {
   "hash": "2be5faf79681da6f2a61fdfdd5405d65d042280f7fba6178067603e3a2925119"
  },
  "kernelspec": {
   "display_name": "Python 3.10.5 64-bit",
   "name": "python3"
  },
  "language_info": {
   "codemirror_mode": {
    "name": "ipython",
    "version": 3
   },
   "file_extension": ".py",
   "mimetype": "text/x-python",
   "name": "python",
   "nbconvert_exporter": "python",
   "pygments_lexer": "ipython3",
   "version": "3.11.4"
  },
  "orig_nbformat": 4
 },
 "nbformat": 4,
 "nbformat_minor": 2
}
