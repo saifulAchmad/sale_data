{
 "cells": [
  {
   "cell_type": "code",
   "execution_count": 3,
   "metadata": {},
   "outputs": [
    {
     "name": "stdout",
     "output_type": "stream",
     "text": [
      "Order No             0\n",
      "Order Date           0\n",
      "Customer Name        0\n",
      "Address              1\n",
      "City                 0\n",
      "State                0\n",
      "Customer Type        0\n",
      "Account Manager      0\n",
      "Order Priority       0\n",
      "Product Name         0\n",
      "Product Category     0\n",
      "Product Container    0\n",
      "Ship Mode            0\n",
      "Ship Date            0\n",
      "Cost Price           0\n",
      "Retail Price         0\n",
      "Profit Margin        0\n",
      "Order Quantity       1\n",
      "Sub Total            0\n",
      "Discount %           0\n",
      "Discount $           0\n",
      "Order Total          0\n",
      "Shipping Cost        0\n",
      "Total                0\n",
      "dtype: int64\n"
     ]
    }
   ],
   "source": [
    "import pandas as pd\r\n",
    "\r\n",
    "\r\n",
    "df = pd.read_csv(\"data_source/data.csv\")\r\n",
    "print(df.isna().sum())"
   ]
  },
  {
   "cell_type": "code",
   "execution_count": 4,
   "metadata": {},
   "outputs": [
    {
     "name": "stdout",
     "output_type": "stream",
     "text": [
      "Order No             0\n",
      "Order Date           0\n",
      "Customer Name        0\n",
      "Address              0\n",
      "City                 0\n",
      "State                0\n",
      "Customer Type        0\n",
      "Account Manager      0\n",
      "Order Priority       0\n",
      "Product Name         0\n",
      "Product Category     0\n",
      "Product Container    0\n",
      "Ship Mode            0\n",
      "Ship Date            0\n",
      "Cost Price           0\n",
      "Retail Price         0\n",
      "Profit Margin        0\n",
      "Order Quantity       0\n",
      "Sub Total            0\n",
      "Discount %           0\n",
      "Discount $           0\n",
      "Order Total          0\n",
      "Shipping Cost        0\n",
      "Total                0\n",
      "dtype: int64\n"
     ]
    }
   ],
   "source": [
    "df=df.dropna()\r\n",
    "print(df.isna().sum())"
   ]
  }
 ],
 "metadata": {
  "interpreter": {
   "hash": "2be5faf79681da6f2a61fdfdd5405d65d042280f7fba6178067603e3a2925119"
  },
  "kernelspec": {
   "display_name": "Python 3.10.5 64-bit",
   "name": "python3"
  },
  "language_info": {
   "codemirror_mode": {
    "name": "ipython",
    "version": 3
   },
   "file_extension": ".py",
   "mimetype": "text/x-python",
   "name": "python",
   "nbconvert_exporter": "python",
   "pygments_lexer": "ipython3",
   "version": "3.10.5"
  },
  "orig_nbformat": 4
 },
 "nbformat": 4,
 "nbformat_minor": 2
}